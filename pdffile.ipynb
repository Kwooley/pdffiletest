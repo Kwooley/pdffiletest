{
 "cells": [
  {
   "cell_type": "code",
   "execution_count": 2,
   "metadata": {},
   "outputs": [
    {
     "name": "stdout",
     "output_type": "stream",
     "text": [
      "Collecting pymupdf\n",
      "  Downloading PyMuPDF-1.24.12-cp39-abi3-macosx_11_0_arm64.whl.metadata (3.4 kB)\n",
      "Downloading PyMuPDF-1.24.12-cp39-abi3-macosx_11_0_arm64.whl (18.2 MB)\n",
      "\u001b[2K   \u001b[90m━━━━━━━━━━━━━━━━━━━━━━━━━━━━━━━━━━━━━━━━\u001b[0m \u001b[32m18.2/18.2 MB\u001b[0m \u001b[31m75.2 MB/s\u001b[0m eta \u001b[36m0:00:00\u001b[0m00:01\u001b[0m00:01\u001b[0m\n",
      "\u001b[?25hInstalling collected packages: pymupdf\n",
      "Successfully installed pymupdf-1.24.12\n"
     ]
    }
   ],
   "source": [
    "!pip install pymupdf\n",
    "import fitz"
   ]
  },
  {
   "cell_type": "code",
   "execution_count": null,
   "metadata": {},
   "outputs": [],
   "source": [
    "import fitz  # PyMuPDF library\n",
    "\n",
    "# Open the PDF file\n",
    "pdf_document = \"eLumen.pdf\"  # Replace with the path to your PDF file\n",
    "doc = fitz.open(pdf_document)\n",
    "\n",
    "# Loop through each page in the PDF\n",
    "for page_num in range(len(doc)):\n",
    "    page = doc[page_num]\n",
    "    text_instances = page.search_for('-')  # Search for strikethrough instances (here assumed as '-')\n",
    "    # Iterate over the found instances\n",
    "    for inst in text_instances:\n",
    "        # page.add_underline(inst)  # Apply underline to the text\n",
    "        # page.erase_text(inst)  # Erase the original strikethrough\n",
    "        page.add_underline_annot(inst)\n",
    "\n",
    "# Save the updated PDF\n",
    "output_pdf = \"output_file.pdf\"\n",
    "doc.save(output_pdf)\n",
    "doc.close()\n",
    "\n",
    "print(\"PDF processed and saved as\", output_pdf)\n"
   ]
  },
  {
   "cell_type": "code",
   "execution_count": 9,
   "metadata": {},
   "outputs": [
    {
     "name": "stdout",
     "output_type": "stream",
     "text": [
      "PDF processed and saved as output_file.pdf\n"
     ]
    }
   ],
   "source": [
    "import fitz  # PyMuPDF\n",
    "\n",
    "# Open the PDF file\n",
    "pdf_document = \"eLumen copy.pdf\"  # Replace with the path to your PDF file\n",
    "doc = fitz.open(pdf_document)\n",
    "\n",
    "# Loop through each page in the PDF\n",
    "for page_num in range(len(doc)):\n",
    "    page = doc[page_num]\n",
    "\n",
    "    # Extract all text and their corresponding blocks\n",
    "    text_blocks = page.get_text(\"dict\")[\"blocks\"]\n",
    "\n",
    "    # Loop through text blocks to find strikethrough-like behavior (based on line annotations)\n",
    "    for block in text_blocks:\n",
    "        for line in block.get(\"lines\", []):\n",
    "            for span in line.get(\"spans\", []):\n",
    "                if span[\"flags\"] == 20:  # This is not a direct detection of strikethrough but checks for certain font styles\n",
    "                    print(f\"Potential strikethrough text found: {span['text']} on page {page_num+1}\")\n",
    "                    # Optionally, add underline here:\n",
    "                    rect = fitz.Rect(span['bbox'])  # Get the bounding box of the text\n",
    "                    page.add_underline_annot(rect)\n",
    "\n",
    "# Save the updated PDF\n",
    "output_pdf = \"output_file.pdf\"\n",
    "doc.save(output_pdf)\n",
    "doc.close()\n",
    "\n",
    "print(\"PDF processed and saved as\", output_pdf)\n"
   ]
  }
 ],
 "metadata": {
  "kernelspec": {
   "display_name": "base",
   "language": "python",
   "name": "python3"
  },
  "language_info": {
   "codemirror_mode": {
    "name": "ipython",
    "version": 3
   },
   "file_extension": ".py",
   "mimetype": "text/x-python",
   "name": "python",
   "nbconvert_exporter": "python",
   "pygments_lexer": "ipython3",
   "version": "3.12.4"
  }
 },
 "nbformat": 4,
 "nbformat_minor": 2
}
